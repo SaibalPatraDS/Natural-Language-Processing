{
 "cells": [
  {
   "cell_type": "markdown",
   "id": "4e9afd0f-1919-4d0a-9652-1f0d83a79a15",
   "metadata": {},
   "source": [
    "## NLTK corpus"
   ]
  },
  {
   "cell_type": "code",
   "execution_count": 1,
   "id": "12d47f4e-68a2-4d6a-9c0e-e8984d08aecd",
   "metadata": {},
   "outputs": [],
   "source": [
    "import nltk"
   ]
  },
  {
   "cell_type": "code",
   "execution_count": 2,
   "id": "5a7a93c1-efd9-49f0-8185-05e8b5e6b17b",
   "metadata": {},
   "outputs": [
    {
     "name": "stdout",
     "output_type": "stream",
     "text": [
      "C:\\Users\\saiba\\anaconda3\\envs\\jupyter notebook\\lib\\site-packages\\nltk\\__init__.py\n"
     ]
    }
   ],
   "source": [
    "print(nltk.__file__)"
   ]
  },
  {
   "cell_type": "code",
   "execution_count": null,
   "id": "bce3c42a-94cd-454f-be5d-781e873ebfce",
   "metadata": {},
   "outputs": [],
   "source": []
  }
 ],
 "metadata": {
  "kernelspec": {
   "display_name": "Python 3 (ipykernel)",
   "language": "python",
   "name": "python3"
  },
  "language_info": {
   "codemirror_mode": {
    "name": "ipython",
    "version": 3
   },
   "file_extension": ".py",
   "mimetype": "text/x-python",
   "name": "python",
   "nbconvert_exporter": "python",
   "pygments_lexer": "ipython3",
   "version": "3.10.9"
  }
 },
 "nbformat": 4,
 "nbformat_minor": 5
}
