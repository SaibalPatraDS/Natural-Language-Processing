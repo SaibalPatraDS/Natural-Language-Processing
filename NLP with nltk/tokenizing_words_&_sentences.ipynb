{
 "cells": [
  {
   "cell_type": "markdown",
   "id": "497ed7d2-a8d8-4334-9fc6-d10cacb95506",
   "metadata": {},
   "source": [
    "## Tokenizing - Sentence Tokenizing and Word Tokenizer"
   ]
  },
  {
   "cell_type": "code",
   "execution_count": 1,
   "id": "7911f2b6-3b9f-40c9-ac4e-0786d0be87db",
   "metadata": {},
   "outputs": [],
   "source": [
    "import nltk"
   ]
  },
  {
   "cell_type": "code",
   "execution_count": 3,
   "id": "f98c7975-d80a-40e7-b418-c5f1eeb63d64",
   "metadata": {},
   "outputs": [],
   "source": [
    "# nltk.download('all')"
   ]
  },
  {
   "cell_type": "code",
   "execution_count": 6,
   "id": "0e0a38eb-6c36-43c2-8c21-3be686b9b14f",
   "metadata": {},
   "outputs": [],
   "source": [
    "from nltk.tokenize import sent_tokenize, word_tokenize"
   ]
  },
  {
   "cell_type": "code",
   "execution_count": 9,
   "id": "3c49992c-bbc0-4830-ab2c-8cd01e69489b",
   "metadata": {},
   "outputs": [],
   "source": [
    "text = '''Weather is pretty good today and we are planning for a vacation. Do you wanna join us? It will be real fun. \n",
    "        I will be really excited to welcome you onboards!'''"
   ]
  },
  {
   "cell_type": "code",
   "execution_count": 10,
   "id": "89244a36-443c-40aa-9f02-58698e1af0b7",
   "metadata": {},
   "outputs": [
    {
     "data": {
      "text/plain": [
       "'Weather is pretty good today and we are planning for a vacation. Do you wanna join us? It will be real fun. \\n        I will be really excited to welcome you onboards!'"
      ]
     },
     "execution_count": 10,
     "metadata": {},
     "output_type": "execute_result"
    }
   ],
   "source": [
    "text"
   ]
  },
  {
   "cell_type": "code",
   "execution_count": 12,
   "id": "5ea5108b-ef3c-4f39-a727-073422c71292",
   "metadata": {},
   "outputs": [
    {
     "data": {
      "text/plain": [
       "['Weather is pretty good today and we are planning for a vacation.',\n",
       " 'Do you wanna join us?',\n",
       " 'It will be real fun.',\n",
       " 'I will be really excited to welcome you onboards!']"
      ]
     },
     "execution_count": 12,
     "metadata": {},
     "output_type": "execute_result"
    }
   ],
   "source": [
    "## sentence tokenize\n",
    "\n",
    "sentence_tokens = sent_tokenize(text)\n",
    "sentence_tokens"
   ]
  },
  {
   "cell_type": "code",
   "execution_count": 15,
   "id": "afd42d81-068e-4ce9-bbe4-8394834c2f01",
   "metadata": {},
   "outputs": [
    {
     "data": {
      "text/plain": [
       "['Weather',\n",
       " 'is',\n",
       " 'pretty',\n",
       " 'good',\n",
       " 'today',\n",
       " 'and',\n",
       " 'we',\n",
       " 'are',\n",
       " 'planning',\n",
       " 'for',\n",
       " 'a',\n",
       " 'vacation',\n",
       " '.',\n",
       " 'Do',\n",
       " 'you',\n",
       " 'wan',\n",
       " 'na',\n",
       " 'join',\n",
       " 'us',\n",
       " '?',\n",
       " 'It',\n",
       " 'will',\n",
       " 'be',\n",
       " 'real',\n",
       " 'fun',\n",
       " '.',\n",
       " 'I',\n",
       " 'will',\n",
       " 'be',\n",
       " 'really',\n",
       " 'excited',\n",
       " 'to',\n",
       " 'welcome',\n",
       " 'you',\n",
       " 'onboards',\n",
       " '!']"
      ]
     },
     "execution_count": 15,
     "metadata": {},
     "output_type": "execute_result"
    }
   ],
   "source": [
    "## word tokenization\n",
    "\n",
    "word_tokens = word_tokenize(text)\n",
    "word_tokens"
   ]
  },
  {
   "cell_type": "code",
   "execution_count": 23,
   "id": "67d1eb41-c430-4b3a-b0e3-ad438a1f41a2",
   "metadata": {},
   "outputs": [
    {
     "name": "stdout",
     "output_type": "stream",
     "text": [
      "1  |  Weather is pretty good today and we are planning for a vacation.\n",
      "2  |  Do you wanna join us?\n",
      "3  |  It will be real fun.\n",
      "4  |  I will be really excited to welcome you onboards!\n"
     ]
    }
   ],
   "source": [
    "## using for loop, counting total no of sentence\n",
    "\n",
    "for i , text in enumerate(sentence_tokens):\n",
    "    print(i+1,  \" | \", text)"
   ]
  },
  {
   "cell_type": "code",
   "execution_count": 27,
   "id": "6bb3f1ff-7dfc-4485-aa9c-301b1bc8bf81",
   "metadata": {},
   "outputs": [
    {
     "name": "stdout",
     "output_type": "stream",
     "text": [
      "1  |  Weather\n",
      "2  |  is\n",
      "3  |  pretty\n",
      "4  |  good\n",
      "5  |  today\n",
      "6  |  and\n",
      "7  |  we\n",
      "8  |  are\n",
      "9  |  planning\n",
      "10  |  for\n",
      "11  |  a\n",
      "12  |  vacation\n",
      "13  |  .\n",
      "14  |  Do\n",
      "15  |  you\n",
      "16  |  wan\n",
      "17  |  na\n",
      "18  |  join\n",
      "19  |  us\n",
      "20  |  ?\n",
      "21  |  It\n",
      "22  |  will\n",
      "23  |  be\n",
      "24  |  real\n",
      "25  |  fun\n",
      "26  |  .\n",
      "27  |  I\n",
      "28  |  will\n",
      "29  |  be\n",
      "30  |  really\n",
      "31  |  excited\n",
      "32  |  to\n",
      "33  |  welcome\n",
      "34  |  you\n",
      "35  |  onboards\n",
      "36  |  !\n"
     ]
    }
   ],
   "source": [
    "## using for loop for counting total no of words\n",
    "\n",
    "for i, token in enumerate(word_tokens):\n",
    "    print(i+1, \" | \", token)"
   ]
  },
  {
   "cell_type": "code",
   "execution_count": null,
   "id": "3341e433-80dc-4ea6-bfc7-bde1ecba4b00",
   "metadata": {},
   "outputs": [],
   "source": []
  }
 ],
 "metadata": {
  "kernelspec": {
   "display_name": "Python 3 (ipykernel)",
   "language": "python",
   "name": "python3"
  },
  "language_info": {
   "codemirror_mode": {
    "name": "ipython",
    "version": 3
   },
   "file_extension": ".py",
   "mimetype": "text/x-python",
   "name": "python",
   "nbconvert_exporter": "python",
   "pygments_lexer": "ipython3",
   "version": "3.10.9"
  }
 },
 "nbformat": 4,
 "nbformat_minor": 5
}
