{
 "cells": [
  {
   "cell_type": "markdown",
   "id": "439ba00f-2675-4a59-a477-d0603e3c370c",
   "metadata": {},
   "source": [
    "## StopWords in NLTK"
   ]
  },
  {
   "cell_type": "code",
   "execution_count": 3,
   "id": "6a03e800-5914-40af-bc00-fcb8706d5bf0",
   "metadata": {},
   "outputs": [],
   "source": [
    "import nltk\n",
    "from nltk.corpus import stopwords\n",
    "from nltk.tokenize import word_tokenize, sent_tokenize"
   ]
  },
  {
   "cell_type": "code",
   "execution_count": 8,
   "id": "624ecdae-ecb7-4c9d-bca7-a69ffffc0b2f",
   "metadata": {},
   "outputs": [],
   "source": [
    "stopwords = set(stopwords.words('english'))"
   ]
  },
  {
   "cell_type": "code",
   "execution_count": 23,
   "id": "10532c91-a46a-4444-a9cc-764a333dcd5d",
   "metadata": {},
   "outputs": [],
   "source": [
    "example_sentence = \"It's an example sentence, it will contain muliple stopwords like and can is am me off hello.\""
   ]
  },
  {
   "cell_type": "code",
   "execution_count": 24,
   "id": "abf2f62a-cad6-4245-aa0e-f476e458617d",
   "metadata": {},
   "outputs": [],
   "source": [
    "filtered_sentence = []\n",
    "\n",
    "for word in word_tokenize(example_sentence):\n",
    "    if word is not stopwords:\n",
    "        filtered_sentence.append(word)"
   ]
  },
  {
   "cell_type": "code",
   "execution_count": 25,
   "id": "d87c60b7-5f83-4eb7-9e38-9690f45d4aab",
   "metadata": {},
   "outputs": [
    {
     "name": "stdout",
     "output_type": "stream",
     "text": [
      "['It', \"'s\", 'an', 'example', 'sentence', ',', 'it', 'will', 'contain', 'muliple', 'stopwords', 'like', 'and', 'can', 'is', 'am', 'me', 'off', 'hello', '.']\n"
     ]
    }
   ],
   "source": [
    "print(filtered_sentence)"
   ]
  },
  {
   "cell_type": "code",
   "execution_count": 27,
   "id": "d29ed38a-93af-4cba-99d5-5634897d0e3a",
   "metadata": {},
   "outputs": [],
   "source": [
    "# print(stopwords)"
   ]
  },
  {
   "cell_type": "code",
   "execution_count": 31,
   "id": "6a48e554-620a-4b5b-b279-b8071e5975a2",
   "metadata": {},
   "outputs": [],
   "source": [
    "## filtering using oneliner and final senetence\n",
    "\n",
    "filtered_sent = ' '.join(word for word in word_tokenize(example_sentence) if word is not stopwords) "
   ]
  },
  {
   "cell_type": "code",
   "execution_count": 32,
   "id": "539d1d23-7aa7-44cb-a22f-3c199b57975f",
   "metadata": {},
   "outputs": [
    {
     "data": {
      "text/plain": [
       "\"It 's an example sentence , it will contain muliple stopwords like and can is am me off hello .\""
      ]
     },
     "execution_count": 32,
     "metadata": {},
     "output_type": "execute_result"
    }
   ],
   "source": [
    "filtered_sent"
   ]
  },
  {
   "cell_type": "code",
   "execution_count": null,
   "id": "34e16b87-7310-4062-bb81-5ed3119a414b",
   "metadata": {},
   "outputs": [],
   "source": []
  }
 ],
 "metadata": {
  "kernelspec": {
   "display_name": "Python 3 (ipykernel)",
   "language": "python",
   "name": "python3"
  },
  "language_info": {
   "codemirror_mode": {
    "name": "ipython",
    "version": 3
   },
   "file_extension": ".py",
   "mimetype": "text/x-python",
   "name": "python",
   "nbconvert_exporter": "python",
   "pygments_lexer": "ipython3",
   "version": "3.10.9"
  }
 },
 "nbformat": 4,
 "nbformat_minor": 5
}
