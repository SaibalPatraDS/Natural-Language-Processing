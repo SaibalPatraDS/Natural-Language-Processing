{
 "cells": [
  {
   "cell_type": "markdown",
   "id": "5319ecd9-7c0f-4dcd-9e62-55551110a5ee",
   "metadata": {},
   "source": [
    "## NER - Named Entity Recognition"
   ]
  },
  {
   "cell_type": "code",
   "execution_count": 1,
   "id": "f1df4667-9d81-4598-a7dc-88f2c8fcb887",
   "metadata": {},
   "outputs": [],
   "source": [
    "## importing packages\n",
    "\n",
    "import nltk\n",
    "from nltk.corpus import state_union\n",
    "from nltk.corpus import stopwords\n",
    "from nltk.tokenize import word_tokenize, sent_tokenize, PunktSentenceTokenizer\n",
    "from nltk.stem import PorterStemmer, SnowballStemmer"
   ]
  },
  {
   "cell_type": "code",
   "execution_count": 2,
   "id": "a93ca15f-2531-4006-8918-20dd2f086332",
   "metadata": {},
   "outputs": [],
   "source": [
    "train_text = state_union.raw(\"2005-GWBush.txt\")\n",
    "test_text = state_union.raw(\"2006-GWBush.txt\")"
   ]
  },
  {
   "cell_type": "code",
   "execution_count": 3,
   "id": "2c656185-f206-47d2-b0df-1bb3d74421f5",
   "metadata": {},
   "outputs": [],
   "source": [
    "## creating instance\n",
    "sent_tokenizer = PunktSentenceTokenizer(train_text)\n",
    "tokenized = sent_tokenizer.tokenize(test_text)"
   ]
  },
  {
   "cell_type": "code",
   "execution_count": 4,
   "id": "6f6cd7e7-fdf7-4a33-b797-c3e138a4c0de",
   "metadata": {},
   "outputs": [],
   "source": [
    "# tokenized"
   ]
  },
  {
   "cell_type": "code",
   "execution_count": null,
   "id": "75b512f3-bdb0-4925-94da-1f4baf2221d8",
   "metadata": {},
   "outputs": [],
   "source": []
  },
  {
   "cell_type": "code",
   "execution_count": 13,
   "id": "780c64bd-175b-4d8b-b71e-0ec53ecc4d38",
   "metadata": {},
   "outputs": [],
   "source": [
    "def process_control():\n",
    "    try:\n",
    "        for sent in tokenized[5:7]:\n",
    "            words = word_tokenize(sent)\n",
    "            tagged = nltk.pos_tag(words)\n",
    "            # print(tagged)\n",
    "            namedEnt = nltk.ne_chunk(tagged, binary = True)   #ner \n",
    "            '''binary = True will make sure that all noun types are chunked together as named entity,`NE` and same for others as well'''\n",
    "            namedEnt.draw()\n",
    "        \n",
    "    except Exception as e:\n",
    "        print(e)\n",
    "        \n",
    "process_control()"
   ]
  },
  {
   "cell_type": "code",
   "execution_count": null,
   "id": "a00c2e6c-71ea-4ead-8772-6351cde2e2db",
   "metadata": {},
   "outputs": [],
   "source": []
  }
 ],
 "metadata": {
  "kernelspec": {
   "display_name": "Python 3 (ipykernel)",
   "language": "python",
   "name": "python3"
  },
  "language_info": {
   "codemirror_mode": {
    "name": "ipython",
    "version": 3
   },
   "file_extension": ".py",
   "mimetype": "text/x-python",
   "name": "python",
   "nbconvert_exporter": "python",
   "pygments_lexer": "ipython3",
   "version": "3.10.9"
  }
 },
 "nbformat": 4,
 "nbformat_minor": 5
}
