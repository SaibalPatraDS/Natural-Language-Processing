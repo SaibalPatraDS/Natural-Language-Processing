{
 "cells": [
  {
   "cell_type": "markdown",
   "id": "ccb72ba6-2296-4885-ad99-8a4eb289e87d",
   "metadata": {},
   "source": [
    "## WordNet "
   ]
  },
  {
   "cell_type": "code",
   "execution_count": 2,
   "id": "53ba009f-d42a-4b86-b98e-1f39a7fdffb0",
   "metadata": {},
   "outputs": [],
   "source": [
    "import nltk\n",
    "from nltk.corpus import wordnet"
   ]
  },
  {
   "cell_type": "raw",
   "id": "c7cf66a4-be06-431b-a3fd-482880bf58a1",
   "metadata": {},
   "source": [
    "1. WordNet is a lexical database that organizes words into sets of synonyms, called synsets, and provides additional semantic relationships between the words. \n",
    "\n",
    "2. Lemmas in WordNet refer to the base forms or canonical forms of words. Each lemma represents a single word sense and is associated with a unique identifier in WordNet."
   ]
  },
  {
   "cell_type": "code",
   "execution_count": 3,
   "id": "26e9aa35-fc3f-4b39-87d8-f3decc70e707",
   "metadata": {},
   "outputs": [
    {
     "name": "stdout",
     "output_type": "stream",
     "text": [
      "[Synset('working.n.01'), Synset('work.v.01'), Synset('work.v.02'), Synset('work.v.03'), Synset('function.v.01'), Synset('work.v.05'), Synset('exercise.v.03'), Synset('make.v.36'), Synset('work.v.08'), Synset('work.v.09'), Synset('work.v.10'), Synset('bring.v.03'), Synset('work.v.12'), Synset('cultivate.v.02'), Synset('work.v.14'), Synset('influence.v.01'), Synset('work.v.16'), Synset('work.v.17'), Synset('work.v.18'), Synset('work.v.19'), Synset('shape.v.02'), Synset('work.v.21'), Synset('knead.v.01'), Synset('exploit.v.01'), Synset('solve.v.01'), Synset('ferment.v.03'), Synset('sour.v.01'), Synset('work.v.27'), Synset('working.s.01'), Synset('working.s.02'), Synset('working.s.03'), Synset('running.s.06'), Synset('working.s.05')]\n"
     ]
    }
   ],
   "source": [
    "## finding synsets \n",
    "\n",
    "syns = wordnet.synsets(\"working\")\n",
    "\n",
    "print(syns)"
   ]
  },
  {
   "cell_type": "code",
   "execution_count": 4,
   "id": "93968ebc-02ae-45a1-b72e-b416e62482ec",
   "metadata": {},
   "outputs": [
    {
     "data": {
      "text/plain": [
       "[Lemma('working.n.01.working'), Lemma('working.n.01.workings')]"
      ]
     },
     "execution_count": 4,
     "metadata": {},
     "output_type": "execute_result"
    }
   ],
   "source": [
    "syns[0].lemmas()"
   ]
  },
  {
   "cell_type": "code",
   "execution_count": 5,
   "id": "051d37d3-2886-46af-8ace-7954cfd64036",
   "metadata": {},
   "outputs": [
    {
     "data": {
      "text/plain": [
       "'working.n.01'"
      ]
     },
     "execution_count": 5,
     "metadata": {},
     "output_type": "execute_result"
    }
   ],
   "source": [
    "## example of one of the synset\n",
    "syns[0].name()"
   ]
  },
  {
   "cell_type": "code",
   "execution_count": 6,
   "id": "7d7a65ce-6f0b-420e-b3cd-e186d85ed7aa",
   "metadata": {},
   "outputs": [
    {
     "data": {
      "text/plain": [
       "('working', 'workings')"
      ]
     },
     "execution_count": 6,
     "metadata": {},
     "output_type": "execute_result"
    }
   ],
   "source": [
    "## example of just the name\n",
    "\n",
    "syns[0].lemmas()[0].name(), syns[0].lemmas()[1].name()"
   ]
  },
  {
   "cell_type": "code",
   "execution_count": 7,
   "id": "64636afd-023c-4c63-87f5-f92bebda9529",
   "metadata": {},
   "outputs": [
    {
     "data": {
      "text/plain": [
       "'a mine or quarry that is being or has been worked'"
      ]
     },
     "execution_count": 7,
     "metadata": {},
     "output_type": "execute_result"
    }
   ],
   "source": [
    "## definition of first synsets\n",
    "\n",
    "syns[0].definition()"
   ]
  },
  {
   "cell_type": "code",
   "execution_count": 8,
   "id": "a6cbba61-361b-43a1-9127-60d1e7ce4921",
   "metadata": {},
   "outputs": [
    {
     "data": {
      "text/plain": [
       "[]"
      ]
     },
     "execution_count": 8,
     "metadata": {},
     "output_type": "execute_result"
    }
   ],
   "source": [
    "## examples of word in use\n",
    "\n",
    "syns[0].examples()"
   ]
  },
  {
   "cell_type": "markdown",
   "id": "1716f235-a9e7-4818-9d77-07aa23e467a8",
   "metadata": {},
   "source": [
    "### finding `synonyms` and `antonyms` of the word"
   ]
  },
  {
   "cell_type": "code",
   "execution_count": 9,
   "id": "b5478599-bd2a-4852-8086-498272328aab",
   "metadata": {},
   "outputs": [],
   "source": [
    "synonyms = []\n",
    "antonyms = []\n",
    "\n",
    "for word in wordnet.synsets('working'):\n",
    "    # print(word)\n",
    "    for l in word.lemmas():\n",
    "        synonyms.append(l.name())\n",
    "        if l.antonyms():\n",
    "            antonyms.append(l.antonyms()[0].name())"
   ]
  },
  {
   "cell_type": "code",
   "execution_count": 10,
   "id": "f59ceea7-e9b8-43cb-8144-75dc713e4b45",
   "metadata": {},
   "outputs": [
    {
     "data": {
      "text/plain": [
       "(['working',\n",
       "  'workings',\n",
       "  'work',\n",
       "  'work',\n",
       "  'do_work',\n",
       "  'work',\n",
       "  'act',\n",
       "  'function',\n",
       "  'work',\n",
       "  'operate'],\n",
       " ['idle', 'malfunction'])"
      ]
     },
     "execution_count": 10,
     "metadata": {},
     "output_type": "execute_result"
    }
   ],
   "source": [
    "synonyms[:10], antonyms"
   ]
  },
  {
   "cell_type": "markdown",
   "id": "64eafc85-f10c-4ce3-82eb-83aa8a754aed",
   "metadata": {},
   "source": [
    "### Comparing two words"
   ]
  },
  {
   "cell_type": "code",
   "execution_count": 11,
   "id": "1e4d041b-b6c1-48b1-9d87-7c6da74439ac",
   "metadata": {},
   "outputs": [],
   "source": [
    "word1 = wordnet.synsets(\"thunder\")\n",
    "word2 = wordnet.synsets(\"storm\")"
   ]
  },
  {
   "cell_type": "code",
   "execution_count": 12,
   "id": "628ea7e6-7ba8-49ba-b3ae-99c5178d0681",
   "metadata": {},
   "outputs": [
    {
     "data": {
      "text/plain": [
       "[Lemma('boom.n.01.boom'),\n",
       " Lemma('boom.n.01.roar'),\n",
       " Lemma('boom.n.01.roaring'),\n",
       " Lemma('boom.n.01.thunder')]"
      ]
     },
     "execution_count": 12,
     "metadata": {},
     "output_type": "execute_result"
    }
   ],
   "source": [
    "word1[0].lemmas()"
   ]
  },
  {
   "cell_type": "code",
   "execution_count": 13,
   "id": "ae883494-0370-4a12-9e5a-d86b6949c83b",
   "metadata": {},
   "outputs": [
    {
     "data": {
      "text/plain": [
       "'boom'"
      ]
     },
     "execution_count": 13,
     "metadata": {},
     "output_type": "execute_result"
    }
   ],
   "source": [
    "word1[0].lemmas()[0].name()"
   ]
  },
  {
   "cell_type": "code",
   "execution_count": 14,
   "id": "70b101b4-f895-4101-a924-cddc38cc8122",
   "metadata": {},
   "outputs": [
    {
     "data": {
      "text/plain": [
       "([Synset('boom.n.01'),\n",
       "  Synset('thunder.n.02'),\n",
       "  Synset('big_h.n.01'),\n",
       "  Synset('thunder.v.01'),\n",
       "  Synset('thunder.v.02'),\n",
       "  Synset('thunder.v.03'),\n",
       "  Synset('thunder.v.04')],\n",
       " 'boom.n.01')"
      ]
     },
     "execution_count": 14,
     "metadata": {},
     "output_type": "execute_result"
    }
   ],
   "source": [
    "word1, word1[0].name()"
   ]
  },
  {
   "cell_type": "code",
   "execution_count": 15,
   "id": "0575ae74-1272-4e65-903e-cb057741edda",
   "metadata": {},
   "outputs": [
    {
     "data": {
      "text/plain": [
       "0.125"
      ]
     },
     "execution_count": 15,
     "metadata": {},
     "output_type": "execute_result"
    }
   ],
   "source": [
    "## similarity between words\n",
    "similarity = word1[0].wup_similarity(word2[0])\n",
    "similarity"
   ]
  },
  {
   "cell_type": "markdown",
   "id": "ca904f6e-c35a-44c4-be98-4db209522ca9",
   "metadata": {},
   "source": [
    "### Note - important"
   ]
  },
  {
   "cell_type": "code",
   "execution_count": 16,
   "id": "9237ff42-db91-4ffc-b1d1-df52298e2611",
   "metadata": {},
   "outputs": [
    {
     "data": {
      "text/plain": [
       "(nltk.corpus.reader.wordnet.Synset,\n",
       " str,\n",
       " list,\n",
       " nltk.corpus.reader.wordnet.Lemma,\n",
       " str)"
      ]
     },
     "execution_count": 16,
     "metadata": {},
     "output_type": "execute_result"
    }
   ],
   "source": [
    "type(word1[0]), type(word1[0].name()), type(word1[0].lemmas()), type(word1[0].lemmas()[0]), type(word1[0].lemmas()[0].name())  "
   ]
  },
  {
   "cell_type": "code",
   "execution_count": null,
   "id": "0e6fd178-5a4b-4f4d-97f9-b0f76ca4ee61",
   "metadata": {},
   "outputs": [],
   "source": []
  },
  {
   "cell_type": "code",
   "execution_count": null,
   "id": "9717061e-032e-4e9b-a1c8-a233026f860e",
   "metadata": {},
   "outputs": [],
   "source": []
  }
 ],
 "metadata": {
  "kernelspec": {
   "display_name": "Python 3 (ipykernel)",
   "language": "python",
   "name": "python3"
  },
  "language_info": {
   "codemirror_mode": {
    "name": "ipython",
    "version": 3
   },
   "file_extension": ".py",
   "mimetype": "text/x-python",
   "name": "python",
   "nbconvert_exporter": "python",
   "pygments_lexer": "ipython3",
   "version": "3.10.9"
  }
 },
 "nbformat": 4,
 "nbformat_minor": 5
}
