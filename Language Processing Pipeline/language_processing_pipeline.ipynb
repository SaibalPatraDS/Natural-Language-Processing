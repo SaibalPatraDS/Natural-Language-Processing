{
 "cells": [
  {
   "cell_type": "markdown",
   "id": "d2d3e7a1-07a3-4420-8993-bd8391c72d77",
   "metadata": {},
   "source": [
    "# Language Processing Pipeline"
   ]
  },
  {
   "cell_type": "code",
   "execution_count": 1,
   "id": "3052c2fc-a740-4013-b284-ecf14e41dc2d",
   "metadata": {},
   "outputs": [],
   "source": [
    "import spacy"
   ]
  },
  {
   "cell_type": "code",
   "execution_count": 2,
   "id": "728f371e-6a63-4735-aa5e-47e5bff9a6a1",
   "metadata": {},
   "outputs": [],
   "source": [
    "nlp = spacy.blank('en')\n",
    "\n",
    "doc = nlp('Mr. X has become invisible for a day and he really enjoys the day.')"
   ]
  },
  {
   "cell_type": "code",
   "execution_count": 3,
   "id": "512ad9aa-0efa-4441-9383-343c79e8a4eb",
   "metadata": {},
   "outputs": [
    {
     "name": "stdout",
     "output_type": "stream",
     "text": [
      "Mr.\n",
      "X\n",
      "has\n",
      "become\n",
      "invisible\n",
      "for\n",
      "a\n",
      "day\n",
      "and\n",
      "he\n",
      "really\n",
      "enjoys\n",
      "the\n",
      "day\n",
      ".\n"
     ]
    }
   ],
   "source": [
    "for token in doc:\n",
    "    print(token)"
   ]
  },
  {
   "cell_type": "markdown",
   "id": "dbac828f-e21c-421f-868d-d1d49a225ccc",
   "metadata": {},
   "source": [
    "## 1. Download and Import Build in pipeline"
   ]
  },
  {
   "cell_type": "code",
   "execution_count": 4,
   "id": "9044118e-6710-4d76-87d9-ffd3fcc10647",
   "metadata": {},
   "outputs": [],
   "source": [
    "nlp = spacy.load('en_core_web_sm')"
   ]
  },
  {
   "attachments": {
    "3b95b385-ce92-425c-b1a2-ed8d8114b5a9.png": {
     "image/png": "[encoded data removed]"
    }
   },
   "cell_type": "markdown",
   "id": "da401664-f793-4ccc-89ff-36e3936e9c97",
   "metadata": {},
   "source": [
    "![Screenshot 2023-06-13 163601.png](attachment:3b95b385-ce92-425c-b1a2-ed8d8114b5a9.png)"
   ]
  },
  {
   "cell_type": "code",
   "execution_count": 5,
   "id": "20e74433-5665-4421-8ab9-8c3ddbebdaaf",
   "metadata": {},
   "outputs": [],
   "source": [
    "import en_core_web_sm"
   ]
  },
  {
   "cell_type": "code",
   "execution_count": 6,
   "id": "fafe8e08-8ac8-48c3-8a90-38d82cd234e5",
   "metadata": {},
   "outputs": [],
   "source": [
    "nlp = en_core_web_sm.load()"
   ]
  },
  {
   "cell_type": "markdown",
   "id": "b6135105-fdbe-4e70-be09-65a771bc823f",
   "metadata": {},
   "source": [
    "### Example 1"
   ]
  },
  {
   "cell_type": "code",
   "execution_count": 15,
   "id": "c289b3e1-17df-45ae-a6ad-6609afcd7013",
   "metadata": {},
   "outputs": [
    {
     "name": "stdout",
     "output_type": "stream",
     "text": [
      "Mr.  |  PROPN  |  Mr.\n",
      "X  |  PROPN  |  X\n",
      "has  |  AUX  |  have\n",
      "become  |  VERB  |  become\n",
      "invisible  |  ADJ  |  invisible\n",
      "for  |  ADP  |  for\n",
      "a  |  DET  |  a\n",
      "day  |  NOUN  |  day\n",
      "and  |  CCONJ  |  and\n",
      "he  |  PRON  |  he\n",
      "really  |  ADV  |  really\n",
      "enjoys  |  VERB  |  enjoy\n",
      "the  |  DET  |  the\n",
      "day  |  NOUN  |  day\n",
      ".  |  PUNCT  |  .\n"
     ]
    }
   ],
   "source": [
    "doc = nlp('Mr. X has become invisible for a day and he really enjoys the day.')\n",
    "\n",
    "for token in doc:\n",
    "    print(token, \" | \", token.pos_, \" | \", token.lemma_)  #token + parts of speech of token and simplified form of verb used"
   ]
  },
  {
   "cell_type": "code",
   "execution_count": 11,
   "id": "56e342ce-3760-41e8-8cab-0b6e94f603d2",
   "metadata": {},
   "outputs": [
    {
     "data": {
      "text/plain": [
       "['tok2vec', 'tagger', 'parser', 'attribute_ruler', 'lemmatizer', 'ner']"
      ]
     },
     "execution_count": 11,
     "metadata": {},
     "output_type": "execute_result"
    }
   ],
   "source": [
    "nlp.pipe_names"
   ]
  },
  {
   "cell_type": "code",
   "execution_count": 16,
   "id": "7fd3193c-6dc0-40a6-b593-d47789ca0662",
   "metadata": {},
   "outputs": [],
   "source": [
    "# nlp.pipe_labels"
   ]
  },
  {
   "cell_type": "code",
   "execution_count": 13,
   "id": "37d2a1a5-9341-43e9-9a1b-8f50d8e04283",
   "metadata": {},
   "outputs": [
    {
     "data": {
      "text/plain": [
       "{'tok2vec': 'tok2vec',\n",
       " 'tagger': 'tagger',\n",
       " 'parser': 'parser',\n",
       " 'senter': 'senter',\n",
       " 'attribute_ruler': 'attribute_ruler',\n",
       " 'lemmatizer': 'lemmatizer',\n",
       " 'ner': 'ner'}"
      ]
     },
     "execution_count": 13,
     "metadata": {},
     "output_type": "execute_result"
    }
   ],
   "source": [
    "nlp.pipe_factories"
   ]
  },
  {
   "cell_type": "code",
   "execution_count": 20,
   "id": "d37542e0-0668-4f03-8e4e-3dda5f77c1e2",
   "metadata": {},
   "outputs": [
    {
     "name": "stdout",
     "output_type": "stream",
     "text": [
      "AMAZON  |  ORG  |  Companies, agencies, institutions, etc.\n",
      "over $2000 Bilion  |  MONEY  |  Monetary values, including unit\n"
     ]
    }
   ],
   "source": [
    "## named entity recognition\n",
    "\n",
    "doc = nlp(\"AMAZON is multi-bilion company worth over $2000 Bilion .\")\n",
    "\n",
    "for ent in doc.ents:\n",
    "    print(ent.text, \" | \", ent.label_, \" | \", spacy.explain(ent.label_))"
   ]
  },
  {
   "cell_type": "code",
   "execution_count": 22,
   "id": "081b20a1-06cf-4bc7-9547-7c0136ae64cd",
   "metadata": {},
   "outputs": [
    {
     "data": {
      "text/html": [
       "<span class=\"tex2jax_ignore\"><div class=\"entities\" style=\"line-height: 2.5; direction: ltr\">\n",
       "<mark class=\"entity\" style=\"background: #7aecec; padding: 0.45em 0.6em; margin: 0 0.25em; line-height: 1; border-radius: 0.35em;\">\n",
       "    AMAZON\n",
       "    <span style=\"font-size: 0.8em; font-weight: bold; line-height: 1; border-radius: 0.35em; vertical-align: middle; margin-left: 0.5rem\">ORG</span>\n",
       "</mark>\n",
       " is multi-bilion company worth \n",
       "<mark class=\"entity\" style=\"background: #e4e7d2; padding: 0.45em 0.6em; margin: 0 0.25em; line-height: 1; border-radius: 0.35em;\">\n",
       "    over $2000 Bilion\n",
       "    <span style=\"font-size: 0.8em; font-weight: bold; line-height: 1; border-radius: 0.35em; vertical-align: middle; margin-left: 0.5rem\">MONEY</span>\n",
       "</mark>\n",
       " .</div></span>"
      ],
      "text/plain": [
       "<IPython.core.display.HTML object>"
      ]
     },
     "metadata": {},
     "output_type": "display_data"
    }
   ],
   "source": [
    "## Displaying the NER in beautiful way\n",
    "\n",
    "from spacy import displacy\n",
    "displacy.render(doc, style = 'ent')"
   ]
  },
  {
   "cell_type": "markdown",
   "id": "05743439-26d3-44aa-8cfd-ce1e7836fd90",
   "metadata": {},
   "source": [
    "### Example 2"
   ]
  },
  {
   "cell_type": "code",
   "execution_count": 37,
   "id": "6db473c3-458b-457e-9108-a56e45a544f5",
   "metadata": {},
   "outputs": [
    {
     "name": "stdout",
     "output_type": "stream",
     "text": [
      "Bloomberg  |  PERSON  | \n",
      "BloomBerg  |  ORG  | \n",
      "late 90s'  |  DATE  | \n"
     ]
    }
   ],
   "source": [
    "## another example of named entity recognition \n",
    "\n",
    "doc = nlp(\"Bloomberg has founded the company BloomBerg back in late 90s'\")\n",
    "\n",
    "# for token in doc:\n",
    "#     print(token)\n",
    "\n",
    "for ent in doc.ents:\n",
    "    print(ent.text, \" | \", ent.label_, \" | \")"
   ]
  },
  {
   "cell_type": "code",
   "execution_count": 39,
   "id": "a2fce5ed-4190-4204-8c31-012ba50469f2",
   "metadata": {},
   "outputs": [
    {
     "data": {
      "text/html": [
       "<span class=\"tex2jax_ignore\"><div class=\"entities\" style=\"line-height: 2.5; direction: ltr\">\n",
       "<mark class=\"entity\" style=\"background: #aa9cfc; padding: 0.45em 0.6em; margin: 0 0.25em; line-height: 1; border-radius: 0.35em;\">\n",
       "    Bloomberg\n",
       "    <span style=\"font-size: 0.8em; font-weight: bold; line-height: 1; border-radius: 0.35em; vertical-align: middle; margin-left: 0.5rem\">PERSON</span>\n",
       "</mark>\n",
       " has founded the company \n",
       "<mark class=\"entity\" style=\"background: #7aecec; padding: 0.45em 0.6em; margin: 0 0.25em; line-height: 1; border-radius: 0.35em;\">\n",
       "    BloomBerg\n",
       "    <span style=\"font-size: 0.8em; font-weight: bold; line-height: 1; border-radius: 0.35em; vertical-align: middle; margin-left: 0.5rem\">ORG</span>\n",
       "</mark>\n",
       " back in \n",
       "<mark class=\"entity\" style=\"background: #bfe1d9; padding: 0.45em 0.6em; margin: 0 0.25em; line-height: 1; border-radius: 0.35em;\">\n",
       "    late 90s'\n",
       "    <span style=\"font-size: 0.8em; font-weight: bold; line-height: 1; border-radius: 0.35em; vertical-align: middle; margin-left: 0.5rem\">DATE</span>\n",
       "</mark>\n",
       "</div></span>"
      ],
      "text/plain": [
       "<IPython.core.display.HTML object>"
      ]
     },
     "metadata": {},
     "output_type": "display_data"
    }
   ],
   "source": [
    "## display the ner \n",
    "\n",
    "displacy.render(doc, style = 'ent')"
   ]
  },
  {
   "cell_type": "markdown",
   "id": "fd603dbc-3f26-4da4-b701-7ba458d7a0d5",
   "metadata": {},
   "source": [
    "## Customize the piepline"
   ]
  },
  {
   "cell_type": "code",
   "execution_count": 44,
   "id": "e47d5965-cac2-4e65-b964-bcf6a6f84bc6",
   "metadata": {},
   "outputs": [
    {
     "data": {
      "text/plain": [
       "['ner']"
      ]
     },
     "execution_count": 44,
     "metadata": {},
     "output_type": "execute_result"
    }
   ],
   "source": [
    "## customize the pipeline in spacy\n",
    "\n",
    "nlp.pipe_names\n",
    "\n",
    "source_pipeline = spacy.load('en_core_web_sm')\n",
    "\n",
    "## let suppose we want only ner/named entity recognition pipeline\n",
    "\n",
    "nlp = spacy.blank('en')\n",
    "\n",
    "nlp.pipe_names  #o/p - [], means no pipeline included\n",
    "\n",
    "## customly adding pipe\n",
    "nlp.add_pipe('ner', source = source_pipeline)\n",
    "nlp.pipe_names #o/p -> ['ner'], means only named entity recognition is added/present there"
   ]
  },
  {
   "cell_type": "code",
   "execution_count": 47,
   "id": "f718fffc-7d4e-4e2e-9e85-3c2304740502",
   "metadata": {},
   "outputs": [
    {
     "name": "stdout",
     "output_type": "stream",
     "text": [
      "X  |  PERSON  |  People, including fictional\n",
      "last night  |  TIME  |  Times smaller than a day\n"
     ]
    }
   ],
   "source": [
    "doc = nlp('Mr. X is extremely sorry for last night, he wants to say sorry to everyone.')\n",
    "\n",
    "for ent in doc.ents:\n",
    "    print(ent.text, \" | \", ent.label_, \" | \", spacy.explain(ent.label_))"
   ]
  },
  {
   "cell_type": "code",
   "execution_count": 48,
   "id": "832ebd81-2d8f-4564-8083-87c88e9dd459",
   "metadata": {},
   "outputs": [
    {
     "data": {
      "text/html": [
       "<span class=\"tex2jax_ignore\"><div class=\"entities\" style=\"line-height: 2.5; direction: ltr\">Mr. \n",
       "<mark class=\"entity\" style=\"background: #aa9cfc; padding: 0.45em 0.6em; margin: 0 0.25em; line-height: 1; border-radius: 0.35em;\">\n",
       "    X\n",
       "    <span style=\"font-size: 0.8em; font-weight: bold; line-height: 1; border-radius: 0.35em; vertical-align: middle; margin-left: 0.5rem\">PERSON</span>\n",
       "</mark>\n",
       " is extremely sorry for \n",
       "<mark class=\"entity\" style=\"background: #bfe1d9; padding: 0.45em 0.6em; margin: 0 0.25em; line-height: 1; border-radius: 0.35em;\">\n",
       "    last night\n",
       "    <span style=\"font-size: 0.8em; font-weight: bold; line-height: 1; border-radius: 0.35em; vertical-align: middle; margin-left: 0.5rem\">TIME</span>\n",
       "</mark>\n",
       ", he wants to say sorry to everyone.</div></span>"
      ],
      "text/plain": [
       "<IPython.core.display.HTML object>"
      ]
     },
     "metadata": {},
     "output_type": "display_data"
    }
   ],
   "source": [
    "## displaying the ner in better ways\n",
    "\n",
    "displacy.render(doc, style = 'ent')"
   ]
  },
  {
   "cell_type": "code",
   "execution_count": null,
   "id": "8f9f02ca-8abf-4bba-99ca-b0e1047bc41f",
   "metadata": {},
   "outputs": [],
   "source": []
  }
 ],
 "metadata": {
  "kernelspec": {
   "display_name": "Python 3 (ipykernel)",
   "language": "python",
   "name": "python3"
  },
  "language_info": {
   "codemirror_mode": {
    "name": "ipython",
    "version": 3
   },
   "file_extension": ".py",
   "mimetype": "text/x-python",
   "name": "python",
   "nbconvert_exporter": "python",
   "pygments_lexer": "ipython3",
   "version": "3.10.9"
  }
 },
 "nbformat": 4,
 "nbformat_minor": 5
}
