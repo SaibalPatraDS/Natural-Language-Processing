{
 "cells": [
  {
   "cell_type": "markdown",
   "id": "ce4eca54-5fbd-4c4d-9f18-aefe83bcb6ab",
   "metadata": {},
   "source": [
    "## Stemming"
   ]
  },
  {
   "cell_type": "code",
   "execution_count": 3,
   "id": "44e7383c-61f0-4211-a09f-0993123542e5",
   "metadata": {},
   "outputs": [],
   "source": [
    "import nltk\n",
    "from nltk.stem import PorterStemmer, SnowballStemmer\n",
    "from nltk.tokenize import word_tokenize, sent_tokenize"
   ]
  },
  {
   "cell_type": "code",
   "execution_count": 4,
   "id": "9007fd5d-23f6-4e7e-8bb5-93fb925036b2",
   "metadata": {},
   "outputs": [],
   "source": [
    "##creating instance\n",
    "\n",
    "ps = PorterStemmer()"
   ]
  },
  {
   "cell_type": "code",
   "execution_count": 8,
   "id": "7c7e479d-890d-4c0d-ac1a-8c84602d82be",
   "metadata": {},
   "outputs": [],
   "source": [
    "example_words = ['python', 'pythoning', 'pythoner', 'pythonly', 'pythoned']"
   ]
  },
  {
   "cell_type": "code",
   "execution_count": 11,
   "id": "8117e7fd-d9cc-4ce3-92d5-cde3486fa54d",
   "metadata": {},
   "outputs": [],
   "source": [
    "stemmed_words = []\n",
    "\n",
    "for word in (example_words):\n",
    "    stemmed_words.append(ps.stem(word))"
   ]
  },
  {
   "cell_type": "code",
   "execution_count": 12,
   "id": "ef04e0fe-cb14-446c-bdf5-18e337d51a78",
   "metadata": {},
   "outputs": [
    {
     "data": {
      "text/plain": [
       "['python', 'python', 'python', 'pythonli', 'python']"
      ]
     },
     "execution_count": 12,
     "metadata": {},
     "output_type": "execute_result"
    }
   ],
   "source": [
    "stemmed_words"
   ]
  },
  {
   "cell_type": "code",
   "execution_count": 17,
   "id": "373768d3-bc95-4687-ae74-d0054607f311",
   "metadata": {},
   "outputs": [],
   "source": [
    "## stemming using a sentence\n",
    "\n",
    "example_sentence = \"Whoever writes code in python is pythoner and all pythonly written codes are some times pythoned, using pythoning\""
   ]
  },
  {
   "cell_type": "code",
   "execution_count": 20,
   "id": "9651b0c2-d440-42b6-acf1-b1ba776b217d",
   "metadata": {},
   "outputs": [
    {
     "name": "stdout",
     "output_type": "stream",
     "text": [
      "whoever write code in python is python and all pythonli written code are some time python , use python\n"
     ]
    }
   ],
   "source": [
    "words = word_tokenize(example_sentence)\n",
    "\n",
    "stemmed_words = []\n",
    "\n",
    "for word in words:\n",
    "    stemmed_words.append(ps.stem(word))\n",
    "    \n",
    "print(' '.join(stemmed_words))\n",
    "    "
   ]
  },
  {
   "cell_type": "code",
   "execution_count": null,
   "id": "a7f3ff8b-9fb9-4379-8baf-f90ed5793d86",
   "metadata": {},
   "outputs": [],
   "source": []
  }
 ],
 "metadata": {
  "kernelspec": {
   "display_name": "Python 3 (ipykernel)",
   "language": "python",
   "name": "python3"
  },
  "language_info": {
   "codemirror_mode": {
    "name": "ipython",
    "version": 3
   },
   "file_extension": ".py",
   "mimetype": "text/x-python",
   "name": "python",
   "nbconvert_exporter": "python",
   "pygments_lexer": "ipython3",
   "version": "3.10.9"
  }
 },
 "nbformat": 4,
 "nbformat_minor": 5
}
