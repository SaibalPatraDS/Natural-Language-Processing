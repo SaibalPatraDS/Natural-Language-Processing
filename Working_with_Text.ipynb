{
  "nbformat": 4,
  "nbformat_minor": 0,
  "metadata": {
    "colab": {
      "provenance": []
    },
    "kernelspec": {
      "name": "python3",
      "display_name": "Python 3"
    },
    "language_info": {
      "name": "python"
    },
    "gpuClass": "standard"
  },
  "cells": [
    {
      "cell_type": "markdown",
      "source": [
        "## Working with Text\n",
        "\n",
        "\n",
        "----------------------"
      ],
      "metadata": {
        "id": "4nE8isLxe2LD"
      }
    },
    {
      "cell_type": "code",
      "execution_count": 1,
      "metadata": {
        "colab": {
          "base_uri": "https://localhost:8080/"
        },
        "id": "2-dmdj93epA6",
        "outputId": "ea24bd27-b501-486c-b2db-5d69aca2964b"
      },
      "outputs": [
        {
          "output_type": "execute_result",
          "data": {
            "text/plain": [
              "76"
            ]
          },
          "metadata": {},
          "execution_count": 1
        }
      ],
      "source": [
        "text1 = \"Ethics are built right into the ideals and objectives of the United Nations \"\n",
        "\n",
        "\n",
        "len(text1)  #length of the text"
      ]
    },
    {
      "cell_type": "code",
      "source": [
        "text2 = text1.split(' ') ## will return a list of words, seperating by ' '\n",
        "\n",
        "# text2\n",
        "len(text2)"
      ],
      "metadata": {
        "colab": {
          "base_uri": "https://localhost:8080/"
        },
        "id": "3cU3OGmzfatA",
        "outputId": "c7f6f2d7-786a-4b56-909b-c70905485bb9"
      },
      "execution_count": 2,
      "outputs": [
        {
          "output_type": "execute_result",
          "data": {
            "text/plain": [
              "14"
            ]
          },
          "metadata": {},
          "execution_count": 2
        }
      ]
    },
    {
      "cell_type": "code",
      "source": [
        "text2"
      ],
      "metadata": {
        "colab": {
          "base_uri": "https://localhost:8080/"
        },
        "id": "UY2ZZFRbfmo5",
        "outputId": "d7155de7-a2e9-46e6-e742-17bceca412c0"
      },
      "execution_count": 3,
      "outputs": [
        {
          "output_type": "execute_result",
          "data": {
            "text/plain": [
              "['Ethics',\n",
              " 'are',\n",
              " 'built',\n",
              " 'right',\n",
              " 'into',\n",
              " 'the',\n",
              " 'ideals',\n",
              " 'and',\n",
              " 'objectives',\n",
              " 'of',\n",
              " 'the',\n",
              " 'United',\n",
              " 'Nations',\n",
              " '']"
            ]
          },
          "metadata": {},
          "execution_count": 3
        }
      ]
    },
    {
      "cell_type": "markdown",
      "source": [
        "### List Comprehension to find specific words\n",
        "\n",
        "------------------------"
      ],
      "metadata": {
        "id": "f0MJPpNKfylD"
      }
    },
    {
      "cell_type": "code",
      "source": [
        "## find words which are greater than 3 letters\n",
        "\n",
        "[w for w in text2 if len(text2)>3]"
      ],
      "metadata": {
        "colab": {
          "base_uri": "https://localhost:8080/"
        },
        "id": "s58VliXKfvr4",
        "outputId": "d15e11f8-a8c3-4b53-f281-34ba10d1cf72"
      },
      "execution_count": 4,
      "outputs": [
        {
          "output_type": "execute_result",
          "data": {
            "text/plain": [
              "['Ethics',\n",
              " 'are',\n",
              " 'built',\n",
              " 'right',\n",
              " 'into',\n",
              " 'the',\n",
              " 'ideals',\n",
              " 'and',\n",
              " 'objectives',\n",
              " 'of',\n",
              " 'the',\n",
              " 'United',\n",
              " 'Nations',\n",
              " '']"
            ]
          },
          "metadata": {},
          "execution_count": 4
        }
      ]
    },
    {
      "cell_type": "code",
      "source": [
        "## Capitalize words in text2\n",
        "\n",
        "[w for w in text2 if w.istitle()]\n",
        "\n",
        "### w.istitle() will return those words which starts with capital letters but rest of the words are small"
      ],
      "metadata": {
        "colab": {
          "base_uri": "https://localhost:8080/"
        },
        "id": "Hyq3tbYAgIBH",
        "outputId": "90833902-46a3-417f-923c-42e842dbddbb"
      },
      "execution_count": 5,
      "outputs": [
        {
          "output_type": "execute_result",
          "data": {
            "text/plain": [
              "['Ethics', 'United', 'Nations']"
            ]
          },
          "metadata": {},
          "execution_count": 5
        }
      ]
    },
    {
      "cell_type": "code",
      "source": [
        "## words end with 's'\n",
        "\n",
        "[w for w in text2 if w.endswith('s')]"
      ],
      "metadata": {
        "colab": {
          "base_uri": "https://localhost:8080/"
        },
        "id": "YZerVUfZgWhM",
        "outputId": "3fef21c6-3fe7-4543-cacf-4782574431fa"
      },
      "execution_count": 6,
      "outputs": [
        {
          "output_type": "execute_result",
          "data": {
            "text/plain": [
              "['Ethics', 'ideals', 'objectives', 'Nations']"
            ]
          },
          "metadata": {},
          "execution_count": 6
        }
      ]
    },
    {
      "cell_type": "markdown",
      "source": [
        "### Find Unique words\n",
        "\n",
        "--------------------"
      ],
      "metadata": {
        "id": "paOKY-KdiT7h"
      }
    },
    {
      "cell_type": "code",
      "source": [
        "text3 = 'To be or not to be'\n",
        "\n",
        "text4 = text3.split(' ')\n",
        "\n",
        "len(text4)"
      ],
      "metadata": {
        "colab": {
          "base_uri": "https://localhost:8080/"
        },
        "id": "GvEEBOhfiRoh",
        "outputId": "72a679da-b6b0-47ba-9475-a344aa629e8c"
      },
      "execution_count": 7,
      "outputs": [
        {
          "output_type": "execute_result",
          "data": {
            "text/plain": [
              "6"
            ]
          },
          "metadata": {},
          "execution_count": 7
        }
      ]
    },
    {
      "cell_type": "code",
      "source": [
        "## finding unique value\n",
        "\n",
        "len(set(text4))"
      ],
      "metadata": {
        "id": "4rxfM579ijJA",
        "colab": {
          "base_uri": "https://localhost:8080/"
        },
        "outputId": "aa77eab5-5f06-4e5e-ef9e-46b4d1389e59"
      },
      "execution_count": 8,
      "outputs": [
        {
          "output_type": "execute_result",
          "data": {
            "text/plain": [
              "5"
            ]
          },
          "metadata": {},
          "execution_count": 8
        }
      ]
    },
    {
      "cell_type": "code",
      "source": [
        "set(text4) ## unique words"
      ],
      "metadata": {
        "colab": {
          "base_uri": "https://localhost:8080/"
        },
        "id": "duy1-FHEThb9",
        "outputId": "bf4a2d3e-bd9a-4a48-ade2-0670c08798d1"
      },
      "execution_count": 10,
      "outputs": [
        {
          "output_type": "execute_result",
          "data": {
            "text/plain": [
              "{'To', 'be', 'not', 'or', 'to'}"
            ]
          },
          "metadata": {},
          "execution_count": 10
        }
      ]
    },
    {
      "cell_type": "markdown",
      "source": [
        "'To' and 'to' are identified as different elements"
      ],
      "metadata": {
        "id": "J7iTri_QT7HC"
      }
    },
    {
      "cell_type": "code",
      "source": [
        "## converting to lower strings\n",
        "\n",
        "[w.lower() for w in text4]"
      ],
      "metadata": {
        "colab": {
          "base_uri": "https://localhost:8080/"
        },
        "id": "333ML5SPTi52",
        "outputId": "b8886489-c34b-4af6-edf2-98d99607a01b"
      },
      "execution_count": 11,
      "outputs": [
        {
          "output_type": "execute_result",
          "data": {
            "text/plain": [
              "['to', 'be', 'or', 'not', 'to', 'be']"
            ]
          },
          "metadata": {},
          "execution_count": 11
        }
      ]
    },
    {
      "cell_type": "code",
      "source": [
        "## unique elements\n",
        "\n",
        "set([w.lower() for w in text4])"
      ],
      "metadata": {
        "colab": {
          "base_uri": "https://localhost:8080/"
        },
        "id": "MkZD9b34T3ja",
        "outputId": "59977a8c-6aa6-4fbe-8868-37e93512e6dc"
      },
      "execution_count": 12,
      "outputs": [
        {
          "output_type": "execute_result",
          "data": {
            "text/plain": [
              "{'be', 'not', 'or', 'to'}"
            ]
          },
          "metadata": {},
          "execution_count": 12
        }
      ]
    },
    {
      "cell_type": "code",
      "source": [
        "len(set([w.lower() for w in text4])) ##length of unique elements only"
      ],
      "metadata": {
        "colab": {
          "base_uri": "https://localhost:8080/"
        },
        "id": "M0sy_3ajUGoU",
        "outputId": "762ba0bc-b8a7-4499-bf1d-0a8e159d2bc8"
      },
      "execution_count": 14,
      "outputs": [
        {
          "output_type": "execute_result",
          "data": {
            "text/plain": [
              "4"
            ]
          },
          "metadata": {},
          "execution_count": 14
        }
      ]
    },
    {
      "cell_type": "markdown",
      "source": [
        "### Processing Free Text\n",
        "\n",
        "\n",
        "----------------------"
      ],
      "metadata": {
        "id": "Tzla6KTeUf27"
      }
    },
    {
      "cell_type": "code",
      "source": [
        "text5 = '\"Ethics are built right into the ideals and objectives of the United Nations\" \\\n",
        "#UNSG @NY Society for Ethical Culture bit.ly/2guVelr'\n",
        "\n",
        "text6 = text5.split(' ')\n",
        "\n",
        "len(text6)"
      ],
      "metadata": {
        "colab": {
          "base_uri": "https://localhost:8080/"
        },
        "id": "zRW-FPNuUVXj",
        "outputId": "e8b6acdb-11a7-41eb-ca8c-aaed15b3c0bb"
      },
      "execution_count": 19,
      "outputs": [
        {
          "output_type": "execute_result",
          "data": {
            "text/plain": [
              "20"
            ]
          },
          "metadata": {},
          "execution_count": 19
        }
      ]
    },
    {
      "cell_type": "code",
      "source": [
        "## finding hashtag\n",
        "\n",
        "[w for w in text6 if w.startswith('#')]"
      ],
      "metadata": {
        "colab": {
          "base_uri": "https://localhost:8080/"
        },
        "id": "lWgbQ-FzUxDL",
        "outputId": "d1688c30-8774-4e6d-c246-1fb53a7bed25"
      },
      "execution_count": 17,
      "outputs": [
        {
          "output_type": "execute_result",
          "data": {
            "text/plain": [
              "['#UNSG']"
            ]
          },
          "metadata": {},
          "execution_count": 17
        }
      ]
    },
    {
      "cell_type": "code",
      "source": [
        "## finding call-outs\n",
        "\n",
        "[w for w in text6 if w.startswith('@')]"
      ],
      "metadata": {
        "colab": {
          "base_uri": "https://localhost:8080/"
        },
        "id": "pn9BydM5U-hT",
        "outputId": "8c5afac1-6f74-4c8d-a759-5aed105c71b6"
      },
      "execution_count": 20,
      "outputs": [
        {
          "output_type": "execute_result",
          "data": {
            "text/plain": [
              "['@NY']"
            ]
          },
          "metadata": {},
          "execution_count": 20
        }
      ]
    },
    {
      "cell_type": "code",
      "source": [
        "text7 = '@UN @UN_Women \"Ethics are built right into the ideals and objectives of the United Nations\" \\\n",
        "#UNSG @ NY Society for Ethical Culture bit.ly/2guVelr'\n",
        "\n",
        "text8 = text7.split(' ')"
      ],
      "metadata": {
        "id": "eRYCWY08VLUD"
      },
      "execution_count": 22,
      "outputs": []
    },
    {
      "cell_type": "code",
      "source": [
        "text8"
      ],
      "metadata": {
        "colab": {
          "base_uri": "https://localhost:8080/"
        },
        "id": "vCjgRxyLVXrA",
        "outputId": "86e9a67b-20b0-4a26-be0f-172e1a217a2c"
      },
      "execution_count": 23,
      "outputs": [
        {
          "output_type": "execute_result",
          "data": {
            "text/plain": [
              "['@UN',\n",
              " '@UN_Women',\n",
              " '\"Ethics',\n",
              " 'are',\n",
              " 'built',\n",
              " 'right',\n",
              " 'into',\n",
              " 'the',\n",
              " 'ideals',\n",
              " 'and',\n",
              " 'objectives',\n",
              " 'of',\n",
              " 'the',\n",
              " 'United',\n",
              " 'Nations\"',\n",
              " '#UNSG',\n",
              " '@',\n",
              " 'NY',\n",
              " 'Society',\n",
              " 'for',\n",
              " 'Ethical',\n",
              " 'Culture',\n",
              " 'bit.ly/2guVelr']"
            ]
          },
          "metadata": {},
          "execution_count": 23
        }
      ]
    },
    {
      "cell_type": "code",
      "source": [
        "## finding hashtags\n",
        "\n",
        "[w for w in text8 if w.startswith('#')]"
      ],
      "metadata": {
        "colab": {
          "base_uri": "https://localhost:8080/"
        },
        "id": "6G7JZMb9VaQX",
        "outputId": "575c4a31-bc5a-4a2a-c548-9551a363d229"
      },
      "execution_count": 25,
      "outputs": [
        {
          "output_type": "execute_result",
          "data": {
            "text/plain": [
              "['#UNSG']"
            ]
          },
          "metadata": {},
          "execution_count": 25
        }
      ]
    },
    {
      "cell_type": "code",
      "source": [
        "## finding callouts\n",
        "\n",
        "[w for w in text8 if w.startswith('@')]"
      ],
      "metadata": {
        "colab": {
          "base_uri": "https://localhost:8080/"
        },
        "id": "elQJduAcVhVf",
        "outputId": "ed57d78e-a1ed-4529-8761-6995bb8f1425"
      },
      "execution_count": 26,
      "outputs": [
        {
          "output_type": "execute_result",
          "data": {
            "text/plain": [
              "['@UN', '@UN_Women', '@']"
            ]
          },
          "metadata": {},
          "execution_count": 26
        }
      ]
    },
    {
      "cell_type": "code",
      "source": [
        "## regex\n",
        "\n",
        "import re\n",
        "\n",
        "[w for w in text8 if re.search(r'@[a-zA-Z0-9_]+', w)]"
      ],
      "metadata": {
        "colab": {
          "base_uri": "https://localhost:8080/"
        },
        "id": "GIYu5VWZVovV",
        "outputId": "f2dcf383-6959-459d-c36e-b3b12116c15e"
      },
      "execution_count": 27,
      "outputs": [
        {
          "output_type": "execute_result",
          "data": {
            "text/plain": [
              "['@UN', '@UN_Women']"
            ]
          },
          "metadata": {},
          "execution_count": 27
        }
      ]
    },
    {
      "cell_type": "code",
      "source": [
        "[w for w in text8 if re.search(r'#[a-zA-Z0-9_]+', w)]"
      ],
      "metadata": {
        "colab": {
          "base_uri": "https://localhost:8080/"
        },
        "id": "QuPgpl_QZBx2",
        "outputId": "3cd8b875-b186-40da-cc18-e22f5d07cc53"
      },
      "execution_count": 28,
      "outputs": [
        {
          "output_type": "execute_result",
          "data": {
            "text/plain": [
              "['#UNSG']"
            ]
          },
          "metadata": {},
          "execution_count": 28
        }
      ]
    },
    {
      "cell_type": "code",
      "source": [],
      "metadata": {
        "id": "MkQ-8PN3ZFxU"
      },
      "execution_count": null,
      "outputs": []
    }
  ]
}